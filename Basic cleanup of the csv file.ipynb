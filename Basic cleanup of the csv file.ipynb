{
 "cells": [
  {
   "cell_type": "markdown",
   "id": "lined-empty",
   "metadata": {},
   "source": [
    "# Main questions\n",
    "***\n",
    "- Who gets hired? \n",
    "- What kind of talent do employers want when they are hiring a data scientist?\n",
    "- Which location has the most opportunities?\n",
    "- What skills, tools, degrees or majors do employers want the most for data scientists?\n",
    "***"
   ]
  },
  {
   "cell_type": "code",
   "execution_count": 26,
   "id": "precise-anthropology",
   "metadata": {},
   "outputs": [],
   "source": [
    "# import libraries\n",
    "import numpy as np\n",
    "import math as mt\n",
    "import pandas as pd"
   ]
  },
  {
   "cell_type": "code",
   "execution_count": 27,
   "id": "toxic-perth",
   "metadata": {},
   "outputs": [],
   "source": [
    "#import dataframe\n",
    "data = pd.read_csv(\"alldata.csv\") \n"
   ]
  },
  {
   "cell_type": "code",
   "execution_count": 28,
   "id": "atlantic-geology",
   "metadata": {},
   "outputs": [
    {
     "data": {
      "text/html": [
       "<div>\n",
       "<style scoped>\n",
       "    .dataframe tbody tr th:only-of-type {\n",
       "        vertical-align: middle;\n",
       "    }\n",
       "\n",
       "    .dataframe tbody tr th {\n",
       "        vertical-align: top;\n",
       "    }\n",
       "\n",
       "    .dataframe thead th {\n",
       "        text-align: right;\n",
       "    }\n",
       "</style>\n",
       "<table border=\"1\" class=\"dataframe\">\n",
       "  <thead>\n",
       "    <tr style=\"text-align: right;\">\n",
       "      <th></th>\n",
       "      <th>position</th>\n",
       "      <th>company</th>\n",
       "      <th>description</th>\n",
       "      <th>reviews</th>\n",
       "      <th>location</th>\n",
       "    </tr>\n",
       "  </thead>\n",
       "  <tbody>\n",
       "    <tr>\n",
       "      <th>0</th>\n",
       "      <td>Development Director</td>\n",
       "      <td>ALS TDI</td>\n",
       "      <td>Development Director\\nALS Therapy Development ...</td>\n",
       "      <td>NaN</td>\n",
       "      <td>Atlanta, GA 30301</td>\n",
       "    </tr>\n",
       "    <tr>\n",
       "      <th>1</th>\n",
       "      <td>An Ostentatiously-Excitable Principal Research...</td>\n",
       "      <td>The Hexagon Lavish</td>\n",
       "      <td>Job Description\\n\\n\"The road that leads to acc...</td>\n",
       "      <td>NaN</td>\n",
       "      <td>Atlanta, GA</td>\n",
       "    </tr>\n",
       "    <tr>\n",
       "      <th>2</th>\n",
       "      <td>Data Scientist</td>\n",
       "      <td>Xpert Staffing</td>\n",
       "      <td>Growing company located in the Atlanta, GA are...</td>\n",
       "      <td>NaN</td>\n",
       "      <td>Atlanta, GA</td>\n",
       "    </tr>\n",
       "    <tr>\n",
       "      <th>3</th>\n",
       "      <td>Data Analyst</td>\n",
       "      <td>Operation HOPE</td>\n",
       "      <td>DEPARTMENT: Program OperationsPOSITION LOCATIO...</td>\n",
       "      <td>44.0</td>\n",
       "      <td>Atlanta, GA 30303</td>\n",
       "    </tr>\n",
       "    <tr>\n",
       "      <th>4</th>\n",
       "      <td>Assistant Professor -TT - Signal Processing &amp; ...</td>\n",
       "      <td>Emory University</td>\n",
       "      <td>DESCRIPTION\\nThe Emory University Department o...</td>\n",
       "      <td>550.0</td>\n",
       "      <td>Atlanta, GA</td>\n",
       "    </tr>\n",
       "    <tr>\n",
       "      <th>5</th>\n",
       "      <td>Manager of Data Engineering</td>\n",
       "      <td>McKinsey &amp; Company</td>\n",
       "      <td>Qualifications\\nBachelor’s degree in Computer ...</td>\n",
       "      <td>385.0</td>\n",
       "      <td>Atlanta, GA 30318</td>\n",
       "    </tr>\n",
       "    <tr>\n",
       "      <th>6</th>\n",
       "      <td>Product Specialist - Periscope, New Ventures</td>\n",
       "      <td>McKinsey &amp; Company</td>\n",
       "      <td>Qualifications\\nBachelor’s degree\\n5-7 years o...</td>\n",
       "      <td>385.0</td>\n",
       "      <td>Atlanta, GA 30318</td>\n",
       "    </tr>\n",
       "    <tr>\n",
       "      <th>7</th>\n",
       "      <td>Junior to Mid-level Engineer, Geologist or Env...</td>\n",
       "      <td>Wood</td>\n",
       "      <td>Overview / Responsibilities\\nWood Environment ...</td>\n",
       "      <td>899.0</td>\n",
       "      <td>Atlanta, GA</td>\n",
       "    </tr>\n",
       "    <tr>\n",
       "      <th>8</th>\n",
       "      <td>Analyst - CIB Credit Research</td>\n",
       "      <td>SunTrust</td>\n",
       "      <td>Works closely with senior CIB professionals. P...</td>\n",
       "      <td>3343.0</td>\n",
       "      <td>Atlanta, GA</td>\n",
       "    </tr>\n",
       "    <tr>\n",
       "      <th>9</th>\n",
       "      <td>Senior Associate - Cognitive Data Scientist Na...</td>\n",
       "      <td>KPMG</td>\n",
       "      <td>Known for being a great place to work and buil...</td>\n",
       "      <td>4494.0</td>\n",
       "      <td>Atlanta, GA 30338</td>\n",
       "    </tr>\n",
       "    <tr>\n",
       "      <th>10</th>\n",
       "      <td>STATISTICAL FORECAST ANALYST</td>\n",
       "      <td>The Home Depot</td>\n",
       "      <td>:\\n\\nThe Statistical Forecast Analyst position...</td>\n",
       "      <td>38844.0</td>\n",
       "      <td>Atlanta, GA</td>\n",
       "    </tr>\n",
       "    <tr>\n",
       "      <th>11</th>\n",
       "      <td>Health Scientist III-CPTS</td>\n",
       "      <td>Chenega Corporation</td>\n",
       "      <td>Chenega Professional &amp;amp; Technical Services,...</td>\n",
       "      <td>390.0</td>\n",
       "      <td>Atlanta, GA</td>\n",
       "    </tr>\n",
       "    <tr>\n",
       "      <th>12</th>\n",
       "      <td>Senior Associate, Data Scientist</td>\n",
       "      <td>KPMG</td>\n",
       "      <td>Innovate. Collaborate. Shine. Lighthouse — KPM...</td>\n",
       "      <td>4494.0</td>\n",
       "      <td>Atlanta, GA 30338</td>\n",
       "    </tr>\n",
       "    <tr>\n",
       "      <th>13</th>\n",
       "      <td>Assistant Scientist (AR) SOM</td>\n",
       "      <td>Emory University</td>\n",
       "      <td>DESCRIPTION\\nUnder minimal supervision, the As...</td>\n",
       "      <td>550.0</td>\n",
       "      <td>Atlanta, GA</td>\n",
       "    </tr>\n",
       "    <tr>\n",
       "      <th>14</th>\n",
       "      <td>Business Intelligence Data Science Analyst - S...</td>\n",
       "      <td>Newell Brands</td>\n",
       "      <td>Data Science Analyst– Business Intelligence\\nL...</td>\n",
       "      <td>912.0</td>\n",
       "      <td>Atlanta, GA</td>\n",
       "    </tr>\n",
       "    <tr>\n",
       "      <th>15</th>\n",
       "      <td>Data Scientist</td>\n",
       "      <td>Cotiviti</td>\n",
       "      <td>Cotiviti is looking for an industry leading Da...</td>\n",
       "      <td>104.0</td>\n",
       "      <td>Atlanta, GA</td>\n",
       "    </tr>\n",
       "    <tr>\n",
       "      <th>16</th>\n",
       "      <td>Senior Structural Engineer-Transmission &amp; Dist...</td>\n",
       "      <td>Burns &amp; McDonnell</td>\n",
       "      <td>Description\\nExecutes complex assignments requ...</td>\n",
       "      <td>152.0</td>\n",
       "      <td>Atlanta, GA 30309</td>\n",
       "    </tr>\n",
       "    <tr>\n",
       "      <th>17</th>\n",
       "      <td>Senior Mobile Developer (iOS/Android)</td>\n",
       "      <td>Perficient</td>\n",
       "      <td>Overview\\n\\n\\n\\nAt Perficient you’ll deliver m...</td>\n",
       "      <td>44.0</td>\n",
       "      <td>Atlanta, GA 30338</td>\n",
       "    </tr>\n",
       "    <tr>\n",
       "      <th>18</th>\n",
       "      <td>Data Scientist</td>\n",
       "      <td>Relus Cloud</td>\n",
       "      <td>DATA SCIENTIST\\n\\nSUMMARY:\\nAs an Amazon Web S...</td>\n",
       "      <td>NaN</td>\n",
       "      <td>Atlanta, GA</td>\n",
       "    </tr>\n",
       "    <tr>\n",
       "      <th>19</th>\n",
       "      <td>Data Scientist</td>\n",
       "      <td>Inspire Brands</td>\n",
       "      <td>This position is critical to understanding dri...</td>\n",
       "      <td>NaN</td>\n",
       "      <td>Atlanta, GA</td>\n",
       "    </tr>\n",
       "    <tr>\n",
       "      <th>20</th>\n",
       "      <td>Senior Electrical Engineer</td>\n",
       "      <td>Burns &amp; McDonnell</td>\n",
       "      <td>Description\\nBurns &amp;amp; McDonnell is consider...</td>\n",
       "      <td>152.0</td>\n",
       "      <td>Atlanta, GA 30309</td>\n",
       "    </tr>\n",
       "    <tr>\n",
       "      <th>21</th>\n",
       "      <td>Sr. Manager, Full Stack Development, KPMG Tax ...</td>\n",
       "      <td>KPMG</td>\n",
       "      <td>Known for being a great place to work and buil...</td>\n",
       "      <td>4494.0</td>\n",
       "      <td>Atlanta, GA 30338</td>\n",
       "    </tr>\n",
       "    <tr>\n",
       "      <th>22</th>\n",
       "      <td>Data Scientist</td>\n",
       "      <td>Norfolk Southern Corp</td>\n",
       "      <td>Join a growing Data Science and Advanced Analy...</td>\n",
       "      <td>722.0</td>\n",
       "      <td>Atlanta, GA 30309</td>\n",
       "    </tr>\n",
       "    <tr>\n",
       "      <th>23</th>\n",
       "      <td>DATA SCIENTIST - Supply Chain</td>\n",
       "      <td>The Home Depot</td>\n",
       "      <td>POSITION PURPOSE:\\nA Data Scientist leverages ...</td>\n",
       "      <td>38844.0</td>\n",
       "      <td>Atlanta, GA</td>\n",
       "    </tr>\n",
       "    <tr>\n",
       "      <th>24</th>\n",
       "      <td>Data Scientist, Keying &amp; Linking</td>\n",
       "      <td>Equifax</td>\n",
       "      <td>Job Number: 16614\\nPosition Title:\\nExternal D...</td>\n",
       "      <td>447.0</td>\n",
       "      <td>Atlanta, GA</td>\n",
       "    </tr>\n",
       "    <tr>\n",
       "      <th>25</th>\n",
       "      <td>Data Scientist</td>\n",
       "      <td>AirSage</td>\n",
       "      <td>AirSage has been in the business of providing ...</td>\n",
       "      <td>NaN</td>\n",
       "      <td>Atlanta, GA</td>\n",
       "    </tr>\n",
       "    <tr>\n",
       "      <th>26</th>\n",
       "      <td>Data Scientist 1 – AP Forensics Team</td>\n",
       "      <td>The Home Depot</td>\n",
       "      <td>POSITION PURPOSE:\\nThe Data Scientist I will p...</td>\n",
       "      <td>NaN</td>\n",
       "      <td>Atlanta, GA</td>\n",
       "    </tr>\n",
       "    <tr>\n",
       "      <th>27</th>\n",
       "      <td>Data Scientist - ICL</td>\n",
       "      <td>Georgia Tech Research Institute</td>\n",
       "      <td>Full-time, permanent position available starti...</td>\n",
       "      <td>496.0</td>\n",
       "      <td>Atlanta, GA 30318</td>\n",
       "    </tr>\n",
       "    <tr>\n",
       "      <th>28</th>\n",
       "      <td>Data Scientist, Online</td>\n",
       "      <td>The Home Depot</td>\n",
       "      <td>Position Purpose:\\nAt HomeDepot.com, our award...</td>\n",
       "      <td>38844.0</td>\n",
       "      <td>Atlanta, GA</td>\n",
       "    </tr>\n",
       "    <tr>\n",
       "      <th>29</th>\n",
       "      <td>Data Scientist - CONSULTANT Level - ORLANDO FL...</td>\n",
       "      <td>Capgemini</td>\n",
       "      <td>Overview:\\nConsultant\\n\\nThe Data Science &amp;amp...</td>\n",
       "      <td>5720.0</td>\n",
       "      <td>Atlanta, GA</td>\n",
       "    </tr>\n",
       "    <tr>\n",
       "      <th>30</th>\n",
       "      <td>Senior Data Scientist</td>\n",
       "      <td>Catalina Marketing</td>\n",
       "      <td>Sr. Data Scientist\\n\\nWHY CATALINA\\n\\nCatalina...</td>\n",
       "      <td>78.0</td>\n",
       "      <td>Atlanta, GA</td>\n",
       "    </tr>\n",
       "    <tr>\n",
       "      <th>31</th>\n",
       "      <td>Business Intelligence Data Scientist - Supply ...</td>\n",
       "      <td>Newell Brands</td>\n",
       "      <td>Data Scientist – Business Intelligence\\nLocati...</td>\n",
       "      <td>912.0</td>\n",
       "      <td>Atlanta, GA</td>\n",
       "    </tr>\n",
       "    <tr>\n",
       "      <th>32</th>\n",
       "      <td>Entry Level/Junior-Level Scientist</td>\n",
       "      <td>Kleinfelder, Inc.</td>\n",
       "      <td>Kleinfelder has been connecting great people t...</td>\n",
       "      <td>92.0</td>\n",
       "      <td>Atlanta, GA</td>\n",
       "    </tr>\n",
       "    <tr>\n",
       "      <th>33</th>\n",
       "      <td>Scientist - Data Analysis</td>\n",
       "      <td>AMERICAN CANCER SOCIETY</td>\n",
       "      <td>Position Description:\\nSave lives. Fulfill you...</td>\n",
       "      <td>959.0</td>\n",
       "      <td>Atlanta, GA</td>\n",
       "    </tr>\n",
       "    <tr>\n",
       "      <th>34</th>\n",
       "      <td>Data Scientist</td>\n",
       "      <td>SalesLoft</td>\n",
       "      <td>We are looking for a Data Scientist who is pas...</td>\n",
       "      <td>7.0</td>\n",
       "      <td>Atlanta, GA</td>\n",
       "    </tr>\n",
       "    <tr>\n",
       "      <th>35</th>\n",
       "      <td>Data Scientist</td>\n",
       "      <td>McKesson</td>\n",
       "      <td>RelayHealth Pharmacy Solutions (RHPS), a McKes...</td>\n",
       "      <td>3558.0</td>\n",
       "      <td>Atlanta, GA 30329</td>\n",
       "    </tr>\n",
       "    <tr>\n",
       "      <th>36</th>\n",
       "      <td>Data Scientist</td>\n",
       "      <td>The Intersect Group</td>\n",
       "      <td>Responsibilities:Help to drive the analytical ...</td>\n",
       "      <td>29.0</td>\n",
       "      <td>Atlanta, GA 30328</td>\n",
       "    </tr>\n",
       "    <tr>\n",
       "      <th>37</th>\n",
       "      <td>Health Scientist</td>\n",
       "      <td>Centers for Disease Control and Prevention</td>\n",
       "      <td>The purpose of this position is to identify an...</td>\n",
       "      <td>350.0</td>\n",
       "      <td>Atlanta, GA</td>\n",
       "    </tr>\n",
       "    <tr>\n",
       "      <th>38</th>\n",
       "      <td>Data Scientist</td>\n",
       "      <td>OM Partners</td>\n",
       "      <td>With demand sensing, OM Partners is breaking t...</td>\n",
       "      <td>NaN</td>\n",
       "      <td>Atlanta, GA</td>\n",
       "    </tr>\n",
       "    <tr>\n",
       "      <th>39</th>\n",
       "      <td>DATA SCIENTIST - SPACE OPTIMIZATION</td>\n",
       "      <td>The Home Depot</td>\n",
       "      <td>POSITION PURPOSE\\nThe Data Scientist Space Opt...</td>\n",
       "      <td>38844.0</td>\n",
       "      <td>Atlanta, GA</td>\n",
       "    </tr>\n",
       "    <tr>\n",
       "      <th>40</th>\n",
       "      <td>Data Science Specialist - Periscope, New Ventures</td>\n",
       "      <td>McKinsey &amp; Company</td>\n",
       "      <td>Qualifications\\nAdvanced degree (MBA, MS, PhD,...</td>\n",
       "      <td>385.0</td>\n",
       "      <td>Atlanta, GA 30318</td>\n",
       "    </tr>\n",
       "    <tr>\n",
       "      <th>41</th>\n",
       "      <td>Senior Data Scientist</td>\n",
       "      <td>Cotiviti</td>\n",
       "      <td>Cotiviti is looking for an industry leading Da...</td>\n",
       "      <td>104.0</td>\n",
       "      <td>Atlanta, GA</td>\n",
       "    </tr>\n",
       "    <tr>\n",
       "      <th>42</th>\n",
       "      <td>Manager - Data Scientist ! Orlando!</td>\n",
       "      <td>Capgemini</td>\n",
       "      <td>Manager – Orlando location\\n\\nOverview:\\nThe D...</td>\n",
       "      <td>5720.0</td>\n",
       "      <td>Atlanta, GA</td>\n",
       "    </tr>\n",
       "    <tr>\n",
       "      <th>43</th>\n",
       "      <td>Scientist II</td>\n",
       "      <td>The Coca-Cola Company</td>\n",
       "      <td>The ideal candidate is a product development s...</td>\n",
       "      <td>7236.0</td>\n",
       "      <td>Atlanta, GA 30301</td>\n",
       "    </tr>\n",
       "    <tr>\n",
       "      <th>44</th>\n",
       "      <td>Lead Data Scientist</td>\n",
       "      <td>Norfolk Southern Corp</td>\n",
       "      <td>Join a growing Data Science and Advanced Analy...</td>\n",
       "      <td>722.0</td>\n",
       "      <td>Atlanta, GA 30309</td>\n",
       "    </tr>\n",
       "    <tr>\n",
       "      <th>45</th>\n",
       "      <td>Senior Data Scientist</td>\n",
       "      <td>Norfolk Southern Corp</td>\n",
       "      <td>Join a growing Data Science and Advanced Analy...</td>\n",
       "      <td>722.0</td>\n",
       "      <td>Atlanta, GA 30309</td>\n",
       "    </tr>\n",
       "    <tr>\n",
       "      <th>46</th>\n",
       "      <td>Data Scientist - Consultant Level - Orlando, F...</td>\n",
       "      <td>Capgemini</td>\n",
       "      <td>Consultant - Orlando, Florida\\n\\nThe Data Scie...</td>\n",
       "      <td>5720.0</td>\n",
       "      <td>Atlanta, GA</td>\n",
       "    </tr>\n",
       "    <tr>\n",
       "      <th>47</th>\n",
       "      <td>Flight Safety Data Analysis Fall Co-Op</td>\n",
       "      <td>Delta Air Lines</td>\n",
       "      <td>Responsibilities include duties to support Fli...</td>\n",
       "      <td>2963.0</td>\n",
       "      <td>Atlanta, GA</td>\n",
       "    </tr>\n",
       "    <tr>\n",
       "      <th>48</th>\n",
       "      <td>Chief Deep Learning Scientist</td>\n",
       "      <td>YIWEI Medical Inc.</td>\n",
       "      <td>We are looking for talented, driven and autono...</td>\n",
       "      <td>NaN</td>\n",
       "      <td>Atlanta, GA</td>\n",
       "    </tr>\n",
       "    <tr>\n",
       "      <th>49</th>\n",
       "      <td>Supervisory Health Scientist</td>\n",
       "      <td>Centers for Disease Control and Prevention</td>\n",
       "      <td>The incumbent will provide scientific consulta...</td>\n",
       "      <td>350.0</td>\n",
       "      <td>Atlanta, GA</td>\n",
       "    </tr>\n",
       "  </tbody>\n",
       "</table>\n",
       "</div>"
      ],
      "text/plain": [
       "                                             position  \\\n",
       "0                                Development Director   \n",
       "1   An Ostentatiously-Excitable Principal Research...   \n",
       "2                                      Data Scientist   \n",
       "3                                        Data Analyst   \n",
       "4   Assistant Professor -TT - Signal Processing & ...   \n",
       "5                         Manager of Data Engineering   \n",
       "6        Product Specialist - Periscope, New Ventures   \n",
       "7   Junior to Mid-level Engineer, Geologist or Env...   \n",
       "8                       Analyst - CIB Credit Research   \n",
       "9   Senior Associate - Cognitive Data Scientist Na...   \n",
       "10                       STATISTICAL FORECAST ANALYST   \n",
       "11                          Health Scientist III-CPTS   \n",
       "12                   Senior Associate, Data Scientist   \n",
       "13                       Assistant Scientist (AR) SOM   \n",
       "14  Business Intelligence Data Science Analyst - S...   \n",
       "15                                     Data Scientist   \n",
       "16  Senior Structural Engineer-Transmission & Dist...   \n",
       "17              Senior Mobile Developer (iOS/Android)   \n",
       "18                                     Data Scientist   \n",
       "19                                     Data Scientist   \n",
       "20                         Senior Electrical Engineer   \n",
       "21  Sr. Manager, Full Stack Development, KPMG Tax ...   \n",
       "22                                     Data Scientist   \n",
       "23                      DATA SCIENTIST - Supply Chain   \n",
       "24                   Data Scientist, Keying & Linking   \n",
       "25                                     Data Scientist   \n",
       "26               Data Scientist 1 – AP Forensics Team   \n",
       "27                               Data Scientist - ICL   \n",
       "28                             Data Scientist, Online   \n",
       "29  Data Scientist - CONSULTANT Level - ORLANDO FL...   \n",
       "30                              Senior Data Scientist   \n",
       "31  Business Intelligence Data Scientist - Supply ...   \n",
       "32                 Entry Level/Junior-Level Scientist   \n",
       "33                          Scientist - Data Analysis   \n",
       "34                                     Data Scientist   \n",
       "35                                     Data Scientist   \n",
       "36                                     Data Scientist   \n",
       "37                                   Health Scientist   \n",
       "38                                     Data Scientist   \n",
       "39                DATA SCIENTIST - SPACE OPTIMIZATION   \n",
       "40  Data Science Specialist - Periscope, New Ventures   \n",
       "41                              Senior Data Scientist   \n",
       "42                Manager - Data Scientist ! Orlando!   \n",
       "43                                       Scientist II   \n",
       "44                                Lead Data Scientist   \n",
       "45                              Senior Data Scientist   \n",
       "46  Data Scientist - Consultant Level - Orlando, F...   \n",
       "47             Flight Safety Data Analysis Fall Co-Op   \n",
       "48                      Chief Deep Learning Scientist   \n",
       "49                       Supervisory Health Scientist   \n",
       "\n",
       "                                       company  \\\n",
       "0                                      ALS TDI   \n",
       "1                           The Hexagon Lavish   \n",
       "2                               Xpert Staffing   \n",
       "3                               Operation HOPE   \n",
       "4                             Emory University   \n",
       "5                           McKinsey & Company   \n",
       "6                           McKinsey & Company   \n",
       "7                                         Wood   \n",
       "8                                     SunTrust   \n",
       "9                                         KPMG   \n",
       "10                              The Home Depot   \n",
       "11                         Chenega Corporation   \n",
       "12                                        KPMG   \n",
       "13                            Emory University   \n",
       "14                               Newell Brands   \n",
       "15                                    Cotiviti   \n",
       "16                           Burns & McDonnell   \n",
       "17                                  Perficient   \n",
       "18                                 Relus Cloud   \n",
       "19                              Inspire Brands   \n",
       "20                           Burns & McDonnell   \n",
       "21                                        KPMG   \n",
       "22                       Norfolk Southern Corp   \n",
       "23                              The Home Depot   \n",
       "24                                     Equifax   \n",
       "25                                     AirSage   \n",
       "26                              The Home Depot   \n",
       "27             Georgia Tech Research Institute   \n",
       "28                              The Home Depot   \n",
       "29                                   Capgemini   \n",
       "30                          Catalina Marketing   \n",
       "31                               Newell Brands   \n",
       "32                           Kleinfelder, Inc.   \n",
       "33                     AMERICAN CANCER SOCIETY   \n",
       "34                                   SalesLoft   \n",
       "35                                    McKesson   \n",
       "36                         The Intersect Group   \n",
       "37  Centers for Disease Control and Prevention   \n",
       "38                                 OM Partners   \n",
       "39                              The Home Depot   \n",
       "40                          McKinsey & Company   \n",
       "41                                    Cotiviti   \n",
       "42                                   Capgemini   \n",
       "43                       The Coca-Cola Company   \n",
       "44                       Norfolk Southern Corp   \n",
       "45                       Norfolk Southern Corp   \n",
       "46                                   Capgemini   \n",
       "47                             Delta Air Lines   \n",
       "48                          YIWEI Medical Inc.   \n",
       "49  Centers for Disease Control and Prevention   \n",
       "\n",
       "                                          description  reviews  \\\n",
       "0   Development Director\\nALS Therapy Development ...      NaN   \n",
       "1   Job Description\\n\\n\"The road that leads to acc...      NaN   \n",
       "2   Growing company located in the Atlanta, GA are...      NaN   \n",
       "3   DEPARTMENT: Program OperationsPOSITION LOCATIO...     44.0   \n",
       "4   DESCRIPTION\\nThe Emory University Department o...    550.0   \n",
       "5   Qualifications\\nBachelor’s degree in Computer ...    385.0   \n",
       "6   Qualifications\\nBachelor’s degree\\n5-7 years o...    385.0   \n",
       "7   Overview / Responsibilities\\nWood Environment ...    899.0   \n",
       "8   Works closely with senior CIB professionals. P...   3343.0   \n",
       "9   Known for being a great place to work and buil...   4494.0   \n",
       "10  :\\n\\nThe Statistical Forecast Analyst position...  38844.0   \n",
       "11  Chenega Professional &amp; Technical Services,...    390.0   \n",
       "12  Innovate. Collaborate. Shine. Lighthouse — KPM...   4494.0   \n",
       "13  DESCRIPTION\\nUnder minimal supervision, the As...    550.0   \n",
       "14  Data Science Analyst– Business Intelligence\\nL...    912.0   \n",
       "15  Cotiviti is looking for an industry leading Da...    104.0   \n",
       "16  Description\\nExecutes complex assignments requ...    152.0   \n",
       "17  Overview\\n\\n\\n\\nAt Perficient you’ll deliver m...     44.0   \n",
       "18  DATA SCIENTIST\\n\\nSUMMARY:\\nAs an Amazon Web S...      NaN   \n",
       "19  This position is critical to understanding dri...      NaN   \n",
       "20  Description\\nBurns &amp; McDonnell is consider...    152.0   \n",
       "21  Known for being a great place to work and buil...   4494.0   \n",
       "22  Join a growing Data Science and Advanced Analy...    722.0   \n",
       "23  POSITION PURPOSE:\\nA Data Scientist leverages ...  38844.0   \n",
       "24  Job Number: 16614\\nPosition Title:\\nExternal D...    447.0   \n",
       "25  AirSage has been in the business of providing ...      NaN   \n",
       "26  POSITION PURPOSE:\\nThe Data Scientist I will p...      NaN   \n",
       "27  Full-time, permanent position available starti...    496.0   \n",
       "28  Position Purpose:\\nAt HomeDepot.com, our award...  38844.0   \n",
       "29  Overview:\\nConsultant\\n\\nThe Data Science &amp...   5720.0   \n",
       "30  Sr. Data Scientist\\n\\nWHY CATALINA\\n\\nCatalina...     78.0   \n",
       "31  Data Scientist – Business Intelligence\\nLocati...    912.0   \n",
       "32  Kleinfelder has been connecting great people t...     92.0   \n",
       "33  Position Description:\\nSave lives. Fulfill you...    959.0   \n",
       "34  We are looking for a Data Scientist who is pas...      7.0   \n",
       "35  RelayHealth Pharmacy Solutions (RHPS), a McKes...   3558.0   \n",
       "36  Responsibilities:Help to drive the analytical ...     29.0   \n",
       "37  The purpose of this position is to identify an...    350.0   \n",
       "38  With demand sensing, OM Partners is breaking t...      NaN   \n",
       "39  POSITION PURPOSE\\nThe Data Scientist Space Opt...  38844.0   \n",
       "40  Qualifications\\nAdvanced degree (MBA, MS, PhD,...    385.0   \n",
       "41  Cotiviti is looking for an industry leading Da...    104.0   \n",
       "42  Manager – Orlando location\\n\\nOverview:\\nThe D...   5720.0   \n",
       "43  The ideal candidate is a product development s...   7236.0   \n",
       "44  Join a growing Data Science and Advanced Analy...    722.0   \n",
       "45  Join a growing Data Science and Advanced Analy...    722.0   \n",
       "46  Consultant - Orlando, Florida\\n\\nThe Data Scie...   5720.0   \n",
       "47  Responsibilities include duties to support Fli...   2963.0   \n",
       "48  We are looking for talented, driven and autono...      NaN   \n",
       "49  The incumbent will provide scientific consulta...    350.0   \n",
       "\n",
       "              location  \n",
       "0   Atlanta, GA 30301   \n",
       "1          Atlanta, GA  \n",
       "2          Atlanta, GA  \n",
       "3   Atlanta, GA 30303   \n",
       "4          Atlanta, GA  \n",
       "5   Atlanta, GA 30318   \n",
       "6   Atlanta, GA 30318   \n",
       "7          Atlanta, GA  \n",
       "8          Atlanta, GA  \n",
       "9    Atlanta, GA 30338  \n",
       "10         Atlanta, GA  \n",
       "11         Atlanta, GA  \n",
       "12   Atlanta, GA 30338  \n",
       "13         Atlanta, GA  \n",
       "14         Atlanta, GA  \n",
       "15         Atlanta, GA  \n",
       "16  Atlanta, GA 30309   \n",
       "17   Atlanta, GA 30338  \n",
       "18         Atlanta, GA  \n",
       "19         Atlanta, GA  \n",
       "20  Atlanta, GA 30309   \n",
       "21   Atlanta, GA 30338  \n",
       "22  Atlanta, GA 30309   \n",
       "23         Atlanta, GA  \n",
       "24         Atlanta, GA  \n",
       "25         Atlanta, GA  \n",
       "26         Atlanta, GA  \n",
       "27  Atlanta, GA 30318   \n",
       "28         Atlanta, GA  \n",
       "29         Atlanta, GA  \n",
       "30         Atlanta, GA  \n",
       "31         Atlanta, GA  \n",
       "32         Atlanta, GA  \n",
       "33         Atlanta, GA  \n",
       "34         Atlanta, GA  \n",
       "35   Atlanta, GA 30329  \n",
       "36   Atlanta, GA 30328  \n",
       "37         Atlanta, GA  \n",
       "38         Atlanta, GA  \n",
       "39         Atlanta, GA  \n",
       "40  Atlanta, GA 30318   \n",
       "41         Atlanta, GA  \n",
       "42         Atlanta, GA  \n",
       "43  Atlanta, GA 30301   \n",
       "44  Atlanta, GA 30309   \n",
       "45  Atlanta, GA 30309   \n",
       "46         Atlanta, GA  \n",
       "47         Atlanta, GA  \n",
       "48         Atlanta, GA  \n",
       "49         Atlanta, GA  "
      ]
     },
     "execution_count": 28,
     "metadata": {},
     "output_type": "execute_result"
    }
   ],
   "source": [
    "#lets get an overview\n",
    "data.head(50)"
   ]
  },
  {
   "cell_type": "code",
   "execution_count": 29,
   "id": "automotive-emergency",
   "metadata": {},
   "outputs": [
    {
     "data": {
      "text/plain": [
       "position       6953\n",
       "company        6953\n",
       "description    6953\n",
       "reviews        5326\n",
       "location       6953\n",
       "dtype: int64"
      ]
     },
     "execution_count": 29,
     "metadata": {},
     "output_type": "execute_result"
    }
   ],
   "source": [
    "data.count()"
   ]
  },
  {
   "cell_type": "code",
   "execution_count": 30,
   "id": "young-cattle",
   "metadata": {},
   "outputs": [
    {
     "data": {
      "text/html": [
       "<div>\n",
       "<style scoped>\n",
       "    .dataframe tbody tr th:only-of-type {\n",
       "        vertical-align: middle;\n",
       "    }\n",
       "\n",
       "    .dataframe tbody tr th {\n",
       "        vertical-align: top;\n",
       "    }\n",
       "\n",
       "    .dataframe thead th {\n",
       "        text-align: right;\n",
       "    }\n",
       "</style>\n",
       "<table border=\"1\" class=\"dataframe\">\n",
       "  <thead>\n",
       "    <tr style=\"text-align: right;\">\n",
       "      <th></th>\n",
       "      <th>position</th>\n",
       "      <th>company</th>\n",
       "      <th>description</th>\n",
       "      <th>location</th>\n",
       "    </tr>\n",
       "  </thead>\n",
       "  <tbody>\n",
       "  </tbody>\n",
       "</table>\n",
       "</div>"
      ],
      "text/plain": [
       "Empty DataFrame\n",
       "Columns: [position, company, description, location]\n",
       "Index: []"
      ]
     },
     "execution_count": 30,
     "metadata": {},
     "output_type": "execute_result"
    }
   ],
   "source": [
    "#since we don't need the 'reviews' column to answer our question, and the number of rows is oly 25% of the other \n",
    "#rows, i decided to drop the whole column\n",
    "df=data.drop(labels='reviews', axis=1)\n",
    "df.head(0)"
   ]
  },
  {
   "cell_type": "code",
   "execution_count": 31,
   "id": "packed-yeast",
   "metadata": {},
   "outputs": [
    {
     "data": {
      "text/html": [
       "<div>\n",
       "<style scoped>\n",
       "    .dataframe tbody tr th:only-of-type {\n",
       "        vertical-align: middle;\n",
       "    }\n",
       "\n",
       "    .dataframe tbody tr th {\n",
       "        vertical-align: top;\n",
       "    }\n",
       "\n",
       "    .dataframe thead th {\n",
       "        text-align: right;\n",
       "    }\n",
       "</style>\n",
       "<table border=\"1\" class=\"dataframe\">\n",
       "  <thead>\n",
       "    <tr style=\"text-align: right;\">\n",
       "      <th></th>\n",
       "      <th>position</th>\n",
       "      <th>company</th>\n",
       "      <th>description</th>\n",
       "      <th>location</th>\n",
       "    </tr>\n",
       "  </thead>\n",
       "  <tbody>\n",
       "    <tr>\n",
       "      <th>count</th>\n",
       "      <td>6953</td>\n",
       "      <td>6953</td>\n",
       "      <td>6953</td>\n",
       "      <td>6953</td>\n",
       "    </tr>\n",
       "    <tr>\n",
       "      <th>unique</th>\n",
       "      <td>5242</td>\n",
       "      <td>2213</td>\n",
       "      <td>6708</td>\n",
       "      <td>382</td>\n",
       "    </tr>\n",
       "    <tr>\n",
       "      <th>top</th>\n",
       "      <td>Data Scientist</td>\n",
       "      <td>Amazon.com</td>\n",
       "      <td>Note: By applying to this position your applic...</td>\n",
       "      <td>Seattle, WA</td>\n",
       "    </tr>\n",
       "    <tr>\n",
       "      <th>freq</th>\n",
       "      <td>351</td>\n",
       "      <td>358</td>\n",
       "      <td>9</td>\n",
       "      <td>563</td>\n",
       "    </tr>\n",
       "  </tbody>\n",
       "</table>\n",
       "</div>"
      ],
      "text/plain": [
       "              position     company  \\\n",
       "count             6953        6953   \n",
       "unique            5242        2213   \n",
       "top     Data Scientist  Amazon.com   \n",
       "freq               351         358   \n",
       "\n",
       "                                              description     location  \n",
       "count                                                6953         6953  \n",
       "unique                                               6708          382  \n",
       "top     Note: By applying to this position your applic...  Seattle, WA  \n",
       "freq                                                    9          563  "
      ]
     },
     "execution_count": 31,
     "metadata": {},
     "output_type": "execute_result"
    }
   ],
   "source": [
    "df.describe()"
   ]
  },
  {
   "cell_type": "markdown",
   "id": "nominated-concentration",
   "metadata": {},
   "source": [
    "Thamo expected count and unique values to be the same but those are most likely NaNs.\n",
    "\n",
    "Most jobs are apparently being offered in Seattle, New York, Cambridge and Boston along with San Francisco.\n"
   ]
  },
  {
   "cell_type": "code",
   "execution_count": 32,
   "id": "adopted-rough",
   "metadata": {},
   "outputs": [
    {
     "data": {
      "text/html": [
       "<div>\n",
       "<style scoped>\n",
       "    .dataframe tbody tr th:only-of-type {\n",
       "        vertical-align: middle;\n",
       "    }\n",
       "\n",
       "    .dataframe tbody tr th {\n",
       "        vertical-align: top;\n",
       "    }\n",
       "\n",
       "    .dataframe thead th {\n",
       "        text-align: right;\n",
       "    }\n",
       "</style>\n",
       "<table border=\"1\" class=\"dataframe\">\n",
       "  <thead>\n",
       "    <tr style=\"text-align: right;\">\n",
       "      <th></th>\n",
       "      <th>position</th>\n",
       "      <th>company</th>\n",
       "      <th>description</th>\n",
       "      <th>location</th>\n",
       "    </tr>\n",
       "  </thead>\n",
       "  <tbody>\n",
       "    <tr>\n",
       "      <th>0</th>\n",
       "      <td>development director</td>\n",
       "      <td>ALS TDI</td>\n",
       "      <td>Development Director\\nALS Therapy Development ...</td>\n",
       "      <td>Atlanta, GA 30301</td>\n",
       "    </tr>\n",
       "    <tr>\n",
       "      <th>1</th>\n",
       "      <td>an ostentatiously-excitable principal research...</td>\n",
       "      <td>The Hexagon Lavish</td>\n",
       "      <td>Job Description\\n\\n\"The road that leads to acc...</td>\n",
       "      <td>Atlanta, GA</td>\n",
       "    </tr>\n",
       "  </tbody>\n",
       "</table>\n",
       "</div>"
      ],
      "text/plain": [
       "                                            position             company  \\\n",
       "0                               development director             ALS TDI   \n",
       "1  an ostentatiously-excitable principal research...  The Hexagon Lavish   \n",
       "\n",
       "                                         description            location  \n",
       "0  Development Director\\nALS Therapy Development ...  Atlanta, GA 30301   \n",
       "1  Job Description\\n\\n\"The road that leads to acc...         Atlanta, GA  "
      ]
     },
     "execution_count": 32,
     "metadata": {},
     "output_type": "execute_result"
    }
   ],
   "source": [
    "# change 'position' to string\n",
    "df['position'].astype(str)\n",
    "# standardize 'position' to lowercase\n",
    "df['position'] = df['position'].str.lower()\n",
    "df.head(2)"
   ]
  },
  {
   "cell_type": "code",
   "execution_count": 33,
   "id": "referenced-blank",
   "metadata": {},
   "outputs": [
    {
     "data": {
      "text/html": [
       "<div>\n",
       "<style scoped>\n",
       "    .dataframe tbody tr th:only-of-type {\n",
       "        vertical-align: middle;\n",
       "    }\n",
       "\n",
       "    .dataframe tbody tr th {\n",
       "        vertical-align: top;\n",
       "    }\n",
       "\n",
       "    .dataframe thead th {\n",
       "        text-align: right;\n",
       "    }\n",
       "</style>\n",
       "<table border=\"1\" class=\"dataframe\">\n",
       "  <thead>\n",
       "    <tr style=\"text-align: right;\">\n",
       "      <th></th>\n",
       "      <th>position</th>\n",
       "      <th>company</th>\n",
       "      <th>description</th>\n",
       "      <th>location</th>\n",
       "    </tr>\n",
       "  </thead>\n",
       "  <tbody>\n",
       "    <tr>\n",
       "      <th>0</th>\n",
       "      <td>development director</td>\n",
       "      <td>als tdi</td>\n",
       "      <td>Development Director\\nALS Therapy Development ...</td>\n",
       "      <td>Atlanta, GA 30301</td>\n",
       "    </tr>\n",
       "    <tr>\n",
       "      <th>1</th>\n",
       "      <td>an ostentatiously-excitable principal research...</td>\n",
       "      <td>the hexagon lavish</td>\n",
       "      <td>Job Description\\n\\n\"The road that leads to acc...</td>\n",
       "      <td>Atlanta, GA</td>\n",
       "    </tr>\n",
       "  </tbody>\n",
       "</table>\n",
       "</div>"
      ],
      "text/plain": [
       "                                            position             company  \\\n",
       "0                               development director             als tdi   \n",
       "1  an ostentatiously-excitable principal research...  the hexagon lavish   \n",
       "\n",
       "                                         description            location  \n",
       "0  Development Director\\nALS Therapy Development ...  Atlanta, GA 30301   \n",
       "1  Job Description\\n\\n\"The road that leads to acc...         Atlanta, GA  "
      ]
     },
     "execution_count": 33,
     "metadata": {},
     "output_type": "execute_result"
    }
   ],
   "source": [
    "# change 'company' to string\n",
    "df['company'].astype(str)\n",
    "# standardize 'company' to lowercase\n",
    "df['company'] = df['company'].str.lower()\n",
    "df.head(2)"
   ]
  },
  {
   "cell_type": "code",
   "execution_count": 34,
   "id": "figured-warner",
   "metadata": {},
   "outputs": [
    {
     "data": {
      "text/html": [
       "<div>\n",
       "<style scoped>\n",
       "    .dataframe tbody tr th:only-of-type {\n",
       "        vertical-align: middle;\n",
       "    }\n",
       "\n",
       "    .dataframe tbody tr th {\n",
       "        vertical-align: top;\n",
       "    }\n",
       "\n",
       "    .dataframe thead th {\n",
       "        text-align: right;\n",
       "    }\n",
       "</style>\n",
       "<table border=\"1\" class=\"dataframe\">\n",
       "  <thead>\n",
       "    <tr style=\"text-align: right;\">\n",
       "      <th></th>\n",
       "      <th>position</th>\n",
       "      <th>company</th>\n",
       "      <th>description</th>\n",
       "      <th>location</th>\n",
       "    </tr>\n",
       "  </thead>\n",
       "  <tbody>\n",
       "    <tr>\n",
       "      <th>0</th>\n",
       "      <td>development director</td>\n",
       "      <td>als tdi</td>\n",
       "      <td>development director\\nals therapy development ...</td>\n",
       "      <td>Atlanta, GA 30301</td>\n",
       "    </tr>\n",
       "    <tr>\n",
       "      <th>1</th>\n",
       "      <td>an ostentatiously-excitable principal research...</td>\n",
       "      <td>the hexagon lavish</td>\n",
       "      <td>job description\\n\\n\"the road that leads to acc...</td>\n",
       "      <td>Atlanta, GA</td>\n",
       "    </tr>\n",
       "  </tbody>\n",
       "</table>\n",
       "</div>"
      ],
      "text/plain": [
       "                                            position             company  \\\n",
       "0                               development director             als tdi   \n",
       "1  an ostentatiously-excitable principal research...  the hexagon lavish   \n",
       "\n",
       "                                         description            location  \n",
       "0  development director\\nals therapy development ...  Atlanta, GA 30301   \n",
       "1  job description\\n\\n\"the road that leads to acc...         Atlanta, GA  "
      ]
     },
     "execution_count": 34,
     "metadata": {},
     "output_type": "execute_result"
    }
   ],
   "source": [
    "# change 'description' to string\n",
    "df['description'].astype(str)\n",
    "# standardize 'description' to lowercase\n",
    "df['description'] = df['description'].str.lower()\n",
    "df.head(2)"
   ]
  },
  {
   "cell_type": "code",
   "execution_count": 35,
   "id": "fallen-inflation",
   "metadata": {},
   "outputs": [
    {
     "data": {
      "text/html": [
       "<div>\n",
       "<style scoped>\n",
       "    .dataframe tbody tr th:only-of-type {\n",
       "        vertical-align: middle;\n",
       "    }\n",
       "\n",
       "    .dataframe tbody tr th {\n",
       "        vertical-align: top;\n",
       "    }\n",
       "\n",
       "    .dataframe thead th {\n",
       "        text-align: right;\n",
       "    }\n",
       "</style>\n",
       "<table border=\"1\" class=\"dataframe\">\n",
       "  <thead>\n",
       "    <tr style=\"text-align: right;\">\n",
       "      <th></th>\n",
       "      <th>position</th>\n",
       "      <th>company</th>\n",
       "      <th>description</th>\n",
       "      <th>location</th>\n",
       "    </tr>\n",
       "  </thead>\n",
       "  <tbody>\n",
       "    <tr>\n",
       "      <th>0</th>\n",
       "      <td>development director</td>\n",
       "      <td>als tdi</td>\n",
       "      <td>development director\\nals therapy development ...</td>\n",
       "      <td>atlanta, ga 30301</td>\n",
       "    </tr>\n",
       "    <tr>\n",
       "      <th>1</th>\n",
       "      <td>an ostentatiously-excitable principal research...</td>\n",
       "      <td>the hexagon lavish</td>\n",
       "      <td>job description\\n\\n\"the road that leads to acc...</td>\n",
       "      <td>atlanta, ga</td>\n",
       "    </tr>\n",
       "    <tr>\n",
       "      <th>2</th>\n",
       "      <td>data scientist</td>\n",
       "      <td>xpert staffing</td>\n",
       "      <td>growing company located in the atlanta, ga are...</td>\n",
       "      <td>atlanta, ga</td>\n",
       "    </tr>\n",
       "    <tr>\n",
       "      <th>3</th>\n",
       "      <td>data analyst</td>\n",
       "      <td>operation hope</td>\n",
       "      <td>department: program operationsposition locatio...</td>\n",
       "      <td>atlanta, ga 30303</td>\n",
       "    </tr>\n",
       "    <tr>\n",
       "      <th>4</th>\n",
       "      <td>assistant professor -tt - signal processing &amp; ...</td>\n",
       "      <td>emory university</td>\n",
       "      <td>description\\nthe emory university department o...</td>\n",
       "      <td>atlanta, ga</td>\n",
       "    </tr>\n",
       "  </tbody>\n",
       "</table>\n",
       "</div>"
      ],
      "text/plain": [
       "                                            position             company  \\\n",
       "0                               development director             als tdi   \n",
       "1  an ostentatiously-excitable principal research...  the hexagon lavish   \n",
       "2                                     data scientist      xpert staffing   \n",
       "3                                       data analyst      operation hope   \n",
       "4  assistant professor -tt - signal processing & ...    emory university   \n",
       "\n",
       "                                         description            location  \n",
       "0  development director\\nals therapy development ...  atlanta, ga 30301   \n",
       "1  job description\\n\\n\"the road that leads to acc...         atlanta, ga  \n",
       "2  growing company located in the atlanta, ga are...         atlanta, ga  \n",
       "3  department: program operationsposition locatio...  atlanta, ga 30303   \n",
       "4  description\\nthe emory university department o...         atlanta, ga  "
      ]
     },
     "execution_count": 35,
     "metadata": {},
     "output_type": "execute_result"
    }
   ],
   "source": [
    "# change 'location' to string\n",
    "df['location'].astype(str)\n",
    "# standardize location' to lowercase\n",
    "df['location'] = df['location'].str.lower()\n",
    "df.head()"
   ]
  },
  {
   "cell_type": "code",
   "execution_count": 36,
   "id": "incorporated-popularity",
   "metadata": {},
   "outputs": [
    {
     "name": "stdout",
     "output_type": "stream",
     "text": [
      "11\n",
      "11\n",
      "11\n",
      "11\n"
     ]
    }
   ],
   "source": [
    "# lets see how many nan values there are\n",
    "print(df['position'].isnull().sum())\n",
    "print(df['company'].isnull().sum())\n",
    "print(df['description'].isnull().sum())\n",
    "print(df['location'].isnull().sum())"
   ]
  },
  {
   "cell_type": "code",
   "execution_count": 37,
   "id": "academic-crystal",
   "metadata": {
    "scrolled": false
   },
   "outputs": [],
   "source": [
    "# decided to drop the nan rows since its so few of them anyway\n",
    "df1 = df.dropna()"
   ]
  },
  {
   "cell_type": "code",
   "execution_count": 38,
   "id": "mounted-network",
   "metadata": {},
   "outputs": [
    {
     "data": {
      "text/plain": [
       "False"
      ]
     },
     "execution_count": 38,
     "metadata": {},
     "output_type": "execute_result"
    }
   ],
   "source": [
    "# check if there are no more nan values\n",
    "df1.isnull().any().any()"
   ]
  },
  {
   "cell_type": "code",
   "execution_count": 39,
   "id": "answering-apartment",
   "metadata": {},
   "outputs": [],
   "source": [
    "# see if there is really really no more nan value\n"
   ]
  },
  {
   "cell_type": "code",
   "execution_count": 40,
   "id": "vanilla-heath",
   "metadata": {},
   "outputs": [
    {
     "name": "stdout",
     "output_type": "stream",
     "text": [
      "0\n",
      "0\n",
      "0\n",
      "0\n"
     ]
    }
   ],
   "source": [
    "# lets see how many nan values there are\n",
    "print(df1['position'].isnull().sum())\n",
    "print(df1['company'].isnull().sum())\n",
    "print(df1['description'].isnull().sum())\n",
    "print(df1['location'].isnull().sum())"
   ]
  },
  {
   "cell_type": "code",
   "execution_count": 41,
   "id": "outstanding-turner",
   "metadata": {},
   "outputs": [
    {
     "data": {
      "text/plain": [
       "position       object\n",
       "company        object\n",
       "description    object\n",
       "location       object\n",
       "dtype: object"
      ]
     },
     "execution_count": 41,
     "metadata": {},
     "output_type": "execute_result"
    }
   ],
   "source": [
    "df1.dtypes"
   ]
  },
  {
   "cell_type": "code",
   "execution_count": 42,
   "id": "coordinated-editor",
   "metadata": {},
   "outputs": [],
   "source": [
    "# now lets rassign this again to a new array so that we get our objects back\n",
    "cleaned=pd.DataFrame(data=df1)"
   ]
  },
  {
   "cell_type": "code",
   "execution_count": 43,
   "id": "documented-witness",
   "metadata": {},
   "outputs": [
    {
     "data": {
      "text/plain": [
       "position       object\n",
       "company        object\n",
       "description    object\n",
       "location       object\n",
       "dtype: object"
      ]
     },
     "execution_count": 43,
     "metadata": {},
     "output_type": "execute_result"
    }
   ],
   "source": [
    "cleaned.dtypes"
   ]
  },
  {
   "cell_type": "code",
   "execution_count": 44,
   "id": "overall-gossip",
   "metadata": {},
   "outputs": [
    {
     "data": {
      "text/html": [
       "<div>\n",
       "<style scoped>\n",
       "    .dataframe tbody tr th:only-of-type {\n",
       "        vertical-align: middle;\n",
       "    }\n",
       "\n",
       "    .dataframe tbody tr th {\n",
       "        vertical-align: top;\n",
       "    }\n",
       "\n",
       "    .dataframe thead th {\n",
       "        text-align: right;\n",
       "    }\n",
       "</style>\n",
       "<table border=\"1\" class=\"dataframe\">\n",
       "  <thead>\n",
       "    <tr style=\"text-align: right;\">\n",
       "      <th></th>\n",
       "      <th>position</th>\n",
       "      <th>company</th>\n",
       "      <th>description</th>\n",
       "      <th>location</th>\n",
       "    </tr>\n",
       "  </thead>\n",
       "  <tbody>\n",
       "    <tr>\n",
       "      <th>0</th>\n",
       "      <td>development director</td>\n",
       "      <td>als tdi</td>\n",
       "      <td>development director\\nals therapy development ...</td>\n",
       "      <td>atlanta, ga 30301</td>\n",
       "    </tr>\n",
       "    <tr>\n",
       "      <th>1</th>\n",
       "      <td>an ostentatiously-excitable principal research...</td>\n",
       "      <td>the hexagon lavish</td>\n",
       "      <td>job description\\n\\n\"the road that leads to acc...</td>\n",
       "      <td>atlanta, ga</td>\n",
       "    </tr>\n",
       "    <tr>\n",
       "      <th>2</th>\n",
       "      <td>data scientist</td>\n",
       "      <td>xpert staffing</td>\n",
       "      <td>growing company located in the atlanta, ga are...</td>\n",
       "      <td>atlanta, ga</td>\n",
       "    </tr>\n",
       "    <tr>\n",
       "      <th>3</th>\n",
       "      <td>data analyst</td>\n",
       "      <td>operation hope</td>\n",
       "      <td>department: program operationsposition locatio...</td>\n",
       "      <td>atlanta, ga 30303</td>\n",
       "    </tr>\n",
       "    <tr>\n",
       "      <th>4</th>\n",
       "      <td>assistant professor -tt - signal processing &amp; ...</td>\n",
       "      <td>emory university</td>\n",
       "      <td>description\\nthe emory university department o...</td>\n",
       "      <td>atlanta, ga</td>\n",
       "    </tr>\n",
       "    <tr>\n",
       "      <th>5</th>\n",
       "      <td>manager of data engineering</td>\n",
       "      <td>mckinsey &amp; company</td>\n",
       "      <td>qualifications\\nbachelor’s degree in computer ...</td>\n",
       "      <td>atlanta, ga 30318</td>\n",
       "    </tr>\n",
       "    <tr>\n",
       "      <th>6</th>\n",
       "      <td>product specialist - periscope, new ventures</td>\n",
       "      <td>mckinsey &amp; company</td>\n",
       "      <td>qualifications\\nbachelor’s degree\\n5-7 years o...</td>\n",
       "      <td>atlanta, ga 30318</td>\n",
       "    </tr>\n",
       "    <tr>\n",
       "      <th>7</th>\n",
       "      <td>junior to mid-level engineer, geologist or env...</td>\n",
       "      <td>wood</td>\n",
       "      <td>overview / responsibilities\\nwood environment ...</td>\n",
       "      <td>atlanta, ga</td>\n",
       "    </tr>\n",
       "    <tr>\n",
       "      <th>8</th>\n",
       "      <td>analyst - cib credit research</td>\n",
       "      <td>suntrust</td>\n",
       "      <td>works closely with senior cib professionals. p...</td>\n",
       "      <td>atlanta, ga</td>\n",
       "    </tr>\n",
       "    <tr>\n",
       "      <th>9</th>\n",
       "      <td>senior associate - cognitive data scientist na...</td>\n",
       "      <td>kpmg</td>\n",
       "      <td>known for being a great place to work and buil...</td>\n",
       "      <td>atlanta, ga 30338</td>\n",
       "    </tr>\n",
       "  </tbody>\n",
       "</table>\n",
       "</div>"
      ],
      "text/plain": [
       "                                            position             company  \\\n",
       "0                               development director             als tdi   \n",
       "1  an ostentatiously-excitable principal research...  the hexagon lavish   \n",
       "2                                     data scientist      xpert staffing   \n",
       "3                                       data analyst      operation hope   \n",
       "4  assistant professor -tt - signal processing & ...    emory university   \n",
       "5                        manager of data engineering  mckinsey & company   \n",
       "6       product specialist - periscope, new ventures  mckinsey & company   \n",
       "7  junior to mid-level engineer, geologist or env...                wood   \n",
       "8                      analyst - cib credit research            suntrust   \n",
       "9  senior associate - cognitive data scientist na...                kpmg   \n",
       "\n",
       "                                         description            location  \n",
       "0  development director\\nals therapy development ...  atlanta, ga 30301   \n",
       "1  job description\\n\\n\"the road that leads to acc...         atlanta, ga  \n",
       "2  growing company located in the atlanta, ga are...         atlanta, ga  \n",
       "3  department: program operationsposition locatio...  atlanta, ga 30303   \n",
       "4  description\\nthe emory university department o...         atlanta, ga  \n",
       "5  qualifications\\nbachelor’s degree in computer ...  atlanta, ga 30318   \n",
       "6  qualifications\\nbachelor’s degree\\n5-7 years o...  atlanta, ga 30318   \n",
       "7  overview / responsibilities\\nwood environment ...         atlanta, ga  \n",
       "8  works closely with senior cib professionals. p...         atlanta, ga  \n",
       "9  known for being a great place to work and buil...   atlanta, ga 30338  "
      ]
     },
     "execution_count": 44,
     "metadata": {},
     "output_type": "execute_result"
    }
   ],
   "source": [
    "cleaned.head(10)"
   ]
  },
  {
   "cell_type": "code",
   "execution_count": 45,
   "id": "ordered-reform",
   "metadata": {},
   "outputs": [],
   "source": [
    "#convert to an excel we can read and work with normally\n",
    "cleaned.to_excel(r'cleaned.xlsx', index = False)"
   ]
  },
  {
   "cell_type": "code",
   "execution_count": 46,
   "id": "dynamic-swedish",
   "metadata": {},
   "outputs": [],
   "source": [
    "#convert to an csv we can read and work with normally\n",
    "\n",
    "cleaned.to_csv(r'cleanedcsv.csv', index = False, header = True)\n"
   ]
  },
  {
   "cell_type": "code",
   "execution_count": 47,
   "id": "hollywood-situation",
   "metadata": {},
   "outputs": [],
   "source": [
    "# Tony: import regular expressions\n",
    "\n",
    "import re\n",
    "\n"
   ]
  },
  {
   "cell_type": "code",
   "execution_count": 48,
   "id": "visible-concert",
   "metadata": {},
   "outputs": [
    {
     "data": {
      "text/html": [
       "<div>\n",
       "<style scoped>\n",
       "    .dataframe tbody tr th:only-of-type {\n",
       "        vertical-align: middle;\n",
       "    }\n",
       "\n",
       "    .dataframe tbody tr th {\n",
       "        vertical-align: top;\n",
       "    }\n",
       "\n",
       "    .dataframe thead th {\n",
       "        text-align: right;\n",
       "    }\n",
       "</style>\n",
       "<table border=\"1\" class=\"dataframe\">\n",
       "  <thead>\n",
       "    <tr style=\"text-align: right;\">\n",
       "      <th></th>\n",
       "      <th>description</th>\n",
       "    </tr>\n",
       "  </thead>\n",
       "  <tbody>\n",
       "    <tr>\n",
       "      <th>0</th>\n",
       "      <td>development director\\nals therapy development ...</td>\n",
       "    </tr>\n",
       "    <tr>\n",
       "      <th>1</th>\n",
       "      <td>job description\\n\\n\"the road that leads to acc...</td>\n",
       "    </tr>\n",
       "    <tr>\n",
       "      <th>2</th>\n",
       "      <td>growing company located in the atlanta, ga are...</td>\n",
       "    </tr>\n",
       "    <tr>\n",
       "      <th>3</th>\n",
       "      <td>department: program operationsposition locatio...</td>\n",
       "    </tr>\n",
       "    <tr>\n",
       "      <th>4</th>\n",
       "      <td>description\\nthe emory university department o...</td>\n",
       "    </tr>\n",
       "    <tr>\n",
       "      <th>...</th>\n",
       "      <td>...</td>\n",
       "    </tr>\n",
       "    <tr>\n",
       "      <th>6959</th>\n",
       "      <td>are you data-driven? we at netapp believe in t...</td>\n",
       "    </tr>\n",
       "    <tr>\n",
       "      <th>6960</th>\n",
       "      <td>pharmacyclics is committed to the development ...</td>\n",
       "    </tr>\n",
       "    <tr>\n",
       "      <th>6961</th>\n",
       "      <td>oath, a subsidiary of verizon, is a values-led...</td>\n",
       "    </tr>\n",
       "    <tr>\n",
       "      <th>6962</th>\n",
       "      <td>we are the bing core relevance team responsibl...</td>\n",
       "    </tr>\n",
       "    <tr>\n",
       "      <th>6963</th>\n",
       "      <td>comcast’s technology &amp;amp; product organizatio...</td>\n",
       "    </tr>\n",
       "  </tbody>\n",
       "</table>\n",
       "<p>6953 rows × 1 columns</p>\n",
       "</div>"
      ],
      "text/plain": [
       "                                            description\n",
       "0     development director\\nals therapy development ...\n",
       "1     job description\\n\\n\"the road that leads to acc...\n",
       "2     growing company located in the atlanta, ga are...\n",
       "3     department: program operationsposition locatio...\n",
       "4     description\\nthe emory university department o...\n",
       "...                                                 ...\n",
       "6959  are you data-driven? we at netapp believe in t...\n",
       "6960  pharmacyclics is committed to the development ...\n",
       "6961  oath, a subsidiary of verizon, is a values-led...\n",
       "6962  we are the bing core relevance team responsibl...\n",
       "6963  comcast’s technology &amp; product organizatio...\n",
       "\n",
       "[6953 rows x 1 columns]"
      ]
     },
     "execution_count": 48,
     "metadata": {},
     "output_type": "execute_result"
    }
   ],
   "source": [
    "# Tony: let's filter the \"description\" column from the cleaned df\n",
    "\n",
    "cleaned.loc[:, [\"description\"]]"
   ]
  },
  {
   "cell_type": "code",
   "execution_count": 49,
   "id": "minute-stability",
   "metadata": {
    "scrolled": true
   },
   "outputs": [
    {
     "data": {
      "text/plain": [
       "(6953, 1)"
      ]
     },
     "execution_count": 49,
     "metadata": {},
     "output_type": "execute_result"
    }
   ],
   "source": [
    "# Tony: assign the filterd description column to variable named test\n",
    "test = cleaned.loc[:, [\"description\"]]\n",
    "test.shape"
   ]
  },
  {
   "cell_type": "code",
   "execution_count": 50,
   "id": "frank-distinction",
   "metadata": {},
   "outputs": [
    {
     "ename": "NameError",
     "evalue": "name 'test_sql' is not defined",
     "output_type": "error",
     "traceback": [
      "\u001b[1;31m---------------------------------------------------------------------------\u001b[0m",
      "\u001b[1;31mNameError\u001b[0m                                 Traceback (most recent call last)",
      "\u001b[1;32m<ipython-input-50-c9fc5e60868d>\u001b[0m in \u001b[0;36m<module>\u001b[1;34m\u001b[0m\n\u001b[0;32m      2\u001b[0m \u001b[1;31m# and functions related to them\u001b[0m\u001b[1;33m\u001b[0m\u001b[1;33m\u001b[0m\u001b[1;33m\u001b[0m\u001b[0m\n\u001b[0;32m      3\u001b[0m \u001b[1;33m\u001b[0m\u001b[0m\n\u001b[1;32m----> 4\u001b[1;33m \u001b[0mtype\u001b[0m\u001b[1;33m(\u001b[0m\u001b[0mtest_sql\u001b[0m\u001b[1;33m)\u001b[0m\u001b[1;33m\u001b[0m\u001b[1;33m\u001b[0m\u001b[0m\n\u001b[0m",
      "\u001b[1;31mNameError\u001b[0m: name 'test_sql' is not defined"
     ]
    }
   ],
   "source": [
    "# Kosta helps Tony with testing so he understands what is dataframe and what is series\n",
    "# and functions related to them\n",
    "\n",
    "type(test_sql)"
   ]
  },
  {
   "cell_type": "code",
   "execution_count": 51,
   "id": "enormous-developer",
   "metadata": {
    "scrolled": false
   },
   "outputs": [
    {
     "data": {
      "text/plain": [
       "1924"
      ]
     },
     "execution_count": 51,
     "metadata": {},
     "output_type": "execute_result"
    }
   ],
   "source": [
    "# Tony: \n",
    "# test is cleaned.loc[:,[\"description\"]]\n",
    "# now we want to test the extraction of keywords\n",
    "# count them\n",
    "# store the results into a variable and convert them into an int\n",
    "\n",
    "test_sql = test[test[\"description\"].str.contains(\"sql\")]\n",
    "sql_count = test_sql.count()\n",
    "IntSQLCount = int(sql_count)\n",
    "IntSQLCount # count the columns # 1924 mentions"
   ]
  },
  {
   "cell_type": "code",
   "execution_count": 52,
   "id": "guilty-challenge",
   "metadata": {},
   "outputs": [
    {
     "data": {
      "text/plain": [
       "630"
      ]
     },
     "execution_count": 52,
     "metadata": {},
     "output_type": "execute_result"
    }
   ],
   "source": [
    "test_economics = test[test[\"description\"].str.contains(\"economics\")]\n",
    "economics_count = test_economics.count()\n",
    "IntEconomicsCount = int(economics_count)\n",
    "IntEconomicsCount # count the columns # 630 mentions"
   ]
  },
  {
   "cell_type": "code",
   "execution_count": 53,
   "id": "controlled-buffer",
   "metadata": {},
   "outputs": [],
   "source": [
    "# Tony: we will continue this way with other criterias that we defined"
   ]
  },
  {
   "cell_type": "code",
   "execution_count": 54,
   "id": "continuous-parking",
   "metadata": {},
   "outputs": [
    {
     "data": {
      "text/plain": [
       "2852"
      ]
     },
     "execution_count": 54,
     "metadata": {},
     "output_type": "execute_result"
    }
   ],
   "source": [
    "test_python = test[test[\"description\"].str.contains(\"python\")]\n",
    "python_count = test_python.count() # count them\n",
    "IntPythonCount = int(python_count) #\n",
    "IntPythonCount\n",
    "\n",
    "# 2852 mentions for python"
   ]
  },
  {
   "cell_type": "code",
   "execution_count": 55,
   "id": "inclusive-active",
   "metadata": {},
   "outputs": [
    {
     "data": {
      "text/plain": [
       "0"
      ]
     },
     "execution_count": 55,
     "metadata": {},
     "output_type": "execute_result"
    }
   ],
   "source": [
    "test_R = test[test[\"description\"].str.contains(\"R\")]\n",
    "R_count = test_R.count() \n",
    "IntRCount = int(R_count)\n",
    "IntRCount\n",
    "\n",
    "# Tony:  0 mentions for R? I am probably doing sth wrong :)"
   ]
  },
  {
   "cell_type": "code",
   "execution_count": 56,
   "id": "promotional-creek",
   "metadata": {},
   "outputs": [
    {
     "data": {
      "text/plain": [
       "3566"
      ]
     },
     "execution_count": 56,
     "metadata": {},
     "output_type": "execute_result"
    }
   ],
   "source": [
    "test_excel = test[test[\"description\"].str.contains(\"excel\")]\n",
    "excel_count = test_excel.count()\n",
    "IntExcelCount = int(excel_count)\n",
    "IntExcelCount"
   ]
  },
  {
   "cell_type": "code",
   "execution_count": 57,
   "id": "compliant-tracker",
   "metadata": {},
   "outputs": [
    {
     "data": {
      "text/plain": [
       "492"
      ]
     },
     "execution_count": 57,
     "metadata": {},
     "output_type": "execute_result"
    }
   ],
   "source": [
    "test_tableau = test[test[\"description\"].str.contains(\"tableau\")]\n",
    "tableau_count = test_tableau.count()\n",
    "IntTableauCount = int(tableau_count)\n",
    "IntTableauCount"
   ]
  },
  {
   "cell_type": "code",
   "execution_count": 58,
   "id": "qualified-diploma",
   "metadata": {},
   "outputs": [
    {
     "data": {
      "text/plain": [
       "50"
      ]
     },
     "execution_count": 58,
     "metadata": {},
     "output_type": "execute_result"
    }
   ],
   "source": [
    "test_bachelor = test[test[\"description\"].str.contains(\"bachelor degree\")]\n",
    "bachelor_count = test_bachelor.count()\n",
    "IntBachelorCount = int(bachelor_count)\n",
    "IntBachelorCount\n",
    "\n",
    "# Tony: 50 mentions out of 6953 rows?"
   ]
  },
  {
   "cell_type": "code",
   "execution_count": 59,
   "id": "surrounded-norfolk",
   "metadata": {},
   "outputs": [
    {
     "data": {
      "text/plain": [
       "54"
      ]
     },
     "execution_count": 59,
     "metadata": {},
     "output_type": "execute_result"
    }
   ],
   "source": [
    "test_master = test[test[\"description\"].str.contains(\"master degree\")]\n",
    "master_count = test_master.count()\n",
    "IntMasterCount = int(master_count)\n",
    "IntMasterCount\n",
    "\n",
    "# Tony: 54 mentions out of 6953 rows?"
   ]
  },
  {
   "cell_type": "code",
   "execution_count": 60,
   "id": "processed-sellers",
   "metadata": {},
   "outputs": [
    {
     "data": {
      "text/plain": [
       "206"
      ]
     },
     "execution_count": 60,
     "metadata": {},
     "output_type": "execute_result"
    }
   ],
   "source": [
    "test_PHD = test[test[\"description\"].str.contains(\"phd degree\")]\n",
    "PHD_count = test_PHD.count()\n",
    "IntPHDCount = int(PHD_count)\n",
    "IntPHDCount\n",
    "\n",
    "# Tony: 206 mentions from 6953 rows"
   ]
  },
  {
   "cell_type": "code",
   "execution_count": 61,
   "id": "stunning-surface",
   "metadata": {},
   "outputs": [
    {
     "data": {
      "text/plain": [
       "233"
      ]
     },
     "execution_count": 61,
     "metadata": {},
     "output_type": "execute_result"
    }
   ],
   "source": [
    "test_data_analyst = test[test[\"description\"].str.contains(\"data analyst\")]\n",
    "DataAnalyst_count = test_data_analyst.count()\n",
    "IntDataAnalystCount = int(DataAnalyst_count)\n",
    "IntDataAnalystCount\n",
    "\n",
    "# Tony: 233 out of 6953 rows"
   ]
  },
  {
   "cell_type": "code",
   "execution_count": null,
   "id": "cubic-thong",
   "metadata": {},
   "outputs": [],
   "source": []
  },
  {
   "cell_type": "code",
   "execution_count": null,
   "id": "domestic-cargo",
   "metadata": {},
   "outputs": [],
   "source": []
  },
  {
   "cell_type": "code",
   "execution_count": null,
   "id": "premium-found",
   "metadata": {},
   "outputs": [],
   "source": []
  },
  {
   "cell_type": "code",
   "execution_count": null,
   "id": "frequent-kruger",
   "metadata": {},
   "outputs": [],
   "source": []
  },
  {
   "cell_type": "code",
   "execution_count": null,
   "id": "adequate-definition",
   "metadata": {},
   "outputs": [],
   "source": []
  },
  {
   "cell_type": "code",
   "execution_count": 62,
   "id": "infectious-identifier",
   "metadata": {},
   "outputs": [
    {
     "ename": "ValueError",
     "evalue": "Cannot mask with non-boolean array containing NA / NaN values",
     "output_type": "error",
     "traceback": [
      "\u001b[1;31m---------------------------------------------------------------------------\u001b[0m",
      "\u001b[1;31mValueError\u001b[0m                                Traceback (most recent call last)",
      "\u001b[1;32m<ipython-input-62-52bac48b9252>\u001b[0m in \u001b[0;36m<module>\u001b[1;34m\u001b[0m\n\u001b[0;32m      1\u001b[0m \u001b[1;31m# test\u001b[0m\u001b[1;33m\u001b[0m\u001b[1;33m\u001b[0m\u001b[1;33m\u001b[0m\u001b[0m\n\u001b[0;32m      2\u001b[0m \u001b[1;31m# data[data['position'].str.contains(\"data scientist\" or \"scientist\")]\u001b[0m\u001b[1;33m\u001b[0m\u001b[1;33m\u001b[0m\u001b[1;33m\u001b[0m\u001b[0m\n\u001b[1;32m----> 3\u001b[1;33m \u001b[0mdf\u001b[0m\u001b[1;33m[\u001b[0m\u001b[0mdf\u001b[0m\u001b[1;33m[\u001b[0m\u001b[1;34m'description'\u001b[0m\u001b[1;33m]\u001b[0m\u001b[1;33m.\u001b[0m\u001b[0mstr\u001b[0m\u001b[1;33m.\u001b[0m\u001b[0mcontains\u001b[0m\u001b[1;33m(\u001b[0m\u001b[1;34m\"bac\"\u001b[0m\u001b[1;33m)\u001b[0m\u001b[1;33m]\u001b[0m\u001b[1;33m\u001b[0m\u001b[1;33m\u001b[0m\u001b[0m\n\u001b[0m",
      "\u001b[1;32m~\\anaconda3\\envs\\excondables\\lib\\site-packages\\pandas\\core\\frame.py\u001b[0m in \u001b[0;36m__getitem__\u001b[1;34m(self, key)\u001b[0m\n\u001b[0;32m   3012\u001b[0m \u001b[1;33m\u001b[0m\u001b[0m\n\u001b[0;32m   3013\u001b[0m         \u001b[1;31m# Do we have a (boolean) 1d indexer?\u001b[0m\u001b[1;33m\u001b[0m\u001b[1;33m\u001b[0m\u001b[1;33m\u001b[0m\u001b[0m\n\u001b[1;32m-> 3014\u001b[1;33m         \u001b[1;32mif\u001b[0m \u001b[0mcom\u001b[0m\u001b[1;33m.\u001b[0m\u001b[0mis_bool_indexer\u001b[0m\u001b[1;33m(\u001b[0m\u001b[0mkey\u001b[0m\u001b[1;33m)\u001b[0m\u001b[1;33m:\u001b[0m\u001b[1;33m\u001b[0m\u001b[1;33m\u001b[0m\u001b[0m\n\u001b[0m\u001b[0;32m   3015\u001b[0m             \u001b[1;32mreturn\u001b[0m \u001b[0mself\u001b[0m\u001b[1;33m.\u001b[0m\u001b[0m_getitem_bool_array\u001b[0m\u001b[1;33m(\u001b[0m\u001b[0mkey\u001b[0m\u001b[1;33m)\u001b[0m\u001b[1;33m\u001b[0m\u001b[1;33m\u001b[0m\u001b[0m\n\u001b[0;32m   3016\u001b[0m \u001b[1;33m\u001b[0m\u001b[0m\n",
      "\u001b[1;32m~\\anaconda3\\envs\\excondables\\lib\\site-packages\\pandas\\core\\common.py\u001b[0m in \u001b[0;36mis_bool_indexer\u001b[1;34m(key)\u001b[0m\n\u001b[0;32m    112\u001b[0m                     \u001b[1;31m# Don't raise on e.g. [\"A\", \"B\", np.nan], see\u001b[0m\u001b[1;33m\u001b[0m\u001b[1;33m\u001b[0m\u001b[1;33m\u001b[0m\u001b[0m\n\u001b[0;32m    113\u001b[0m                     \u001b[1;31m#  test_loc_getitem_list_of_labels_categoricalindex_with_na\u001b[0m\u001b[1;33m\u001b[0m\u001b[1;33m\u001b[0m\u001b[1;33m\u001b[0m\u001b[0m\n\u001b[1;32m--> 114\u001b[1;33m                     \u001b[1;32mraise\u001b[0m \u001b[0mValueError\u001b[0m\u001b[1;33m(\u001b[0m\u001b[0mna_msg\u001b[0m\u001b[1;33m)\u001b[0m\u001b[1;33m\u001b[0m\u001b[1;33m\u001b[0m\u001b[0m\n\u001b[0m\u001b[0;32m    115\u001b[0m                 \u001b[1;32mreturn\u001b[0m \u001b[1;32mFalse\u001b[0m\u001b[1;33m\u001b[0m\u001b[1;33m\u001b[0m\u001b[0m\n\u001b[0;32m    116\u001b[0m             \u001b[1;32mreturn\u001b[0m \u001b[1;32mTrue\u001b[0m\u001b[1;33m\u001b[0m\u001b[1;33m\u001b[0m\u001b[0m\n",
      "\u001b[1;31mValueError\u001b[0m: Cannot mask with non-boolean array containing NA / NaN values"
     ]
    }
   ],
   "source": [
    "# test\n",
    "# data[data['position'].str.contains(\"data scientist\" or \"scientist\")]\n",
    "df[df['description'].str.contains(\"bac\")]"
   ]
  },
  {
   "cell_type": "code",
   "execution_count": null,
   "id": "bigger-roots",
   "metadata": {},
   "outputs": [],
   "source": [
    "# test\n",
    "description.str.contains(\"data\")"
   ]
  },
  {
   "cell_type": "code",
   "execution_count": null,
   "id": "significant-premises",
   "metadata": {},
   "outputs": [],
   "source": [
    "#cleaned.head()\n",
    "cleaned[(cleaned['description'])]"
   ]
  },
  {
   "cell_type": "code",
   "execution_count": null,
   "id": "cosmetic-valve",
   "metadata": {},
   "outputs": [],
   "source": []
  }
 ],
 "metadata": {
  "kernelspec": {
   "display_name": "Python 3",
   "language": "python",
   "name": "python3"
  },
  "language_info": {
   "codemirror_mode": {
    "name": "ipython",
    "version": 3
   },
   "file_extension": ".py",
   "mimetype": "text/x-python",
   "name": "python",
   "nbconvert_exporter": "python",
   "pygments_lexer": "ipython3",
   "version": "3.9.2"
  },
  "toc": {
   "base_numbering": 1,
   "nav_menu": {},
   "number_sections": true,
   "sideBar": true,
   "skip_h1_title": false,
   "title_cell": "Table of Contents",
   "title_sidebar": "Contents",
   "toc_cell": false,
   "toc_position": {},
   "toc_section_display": true,
   "toc_window_display": false
  },
  "varInspector": {
   "cols": {
    "lenName": 16,
    "lenType": 16,
    "lenVar": 40
   },
   "kernels_config": {
    "python": {
     "delete_cmd_postfix": "",
     "delete_cmd_prefix": "del ",
     "library": "var_list.py",
     "varRefreshCmd": "print(var_dic_list())"
    },
    "r": {
     "delete_cmd_postfix": ") ",
     "delete_cmd_prefix": "rm(",
     "library": "var_list.r",
     "varRefreshCmd": "cat(var_dic_list()) "
    }
   },
   "types_to_exclude": [
    "module",
    "function",
    "builtin_function_or_method",
    "instance",
    "_Feature"
   ],
   "window_display": false
  }
 },
 "nbformat": 4,
 "nbformat_minor": 5
}
